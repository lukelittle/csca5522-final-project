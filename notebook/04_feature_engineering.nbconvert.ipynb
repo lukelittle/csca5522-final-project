{
 "cells": [
  {
   "cell_type": "markdown",
   "metadata": {},
   "source": [
    "# 04 - Feature Engineering\n",
    "\n",
    "**Author:** Lucas Little  \n",
    "\n",
    "**Course:** CSCA 5522: Data Mining Project  \n",
    "\n",
    "**University:** University of Colorado - Boulder\n",
    "\n",
    "This notebook engineers features from the price data and merges them with the sentiment data."
   ]
  },
  {
   "cell_type": "markdown",
   "metadata": {},
   "source": [
    "## 1. Core imports"
   ]
  },
  {
   "cell_type": "code",
   "execution_count": 1,
   "metadata": {
    "execution": {
     "iopub.execute_input": "2025-07-05T18:33:22.255402Z",
     "iopub.status.busy": "2025-07-05T18:33:22.255200Z",
     "iopub.status.idle": "2025-07-05T18:33:22.426146Z",
     "shell.execute_reply": "2025-07-05T18:33:22.425871Z"
    }
   },
   "outputs": [
    {
     "name": "stdout",
     "output_type": "stream",
     "text": [
      "Environment setup complete!\n"
     ]
    }
   ],
   "source": [
    "import pandas as pd\n",
    "import numpy as np\n",
    "from pathlib import Path\n",
    "import warnings\n",
    "\n",
    "warnings.filterwarnings('ignore')\n",
    "\n",
    "print(\"Environment setup complete!\")"
   ]
  },
  {
   "cell_type": "markdown",
   "metadata": {},
   "source": [
    "## 2. Feature Engineering"
   ]
  },
  {
   "cell_type": "code",
   "execution_count": 2,
   "metadata": {
    "execution": {
     "iopub.execute_input": "2025-07-05T18:33:22.440813Z",
     "iopub.status.busy": "2025-07-05T18:33:22.440671Z",
     "iopub.status.idle": "2025-07-05T18:33:22.521286Z",
     "shell.execute_reply": "2025-07-05T18:33:22.521027Z"
    }
   },
   "outputs": [
    {
     "name": "stdout",
     "output_type": "stream",
     "text": [
      "\n",
      "--- Processing Sample 1 ---\n",
      "Engineering features for price data...\n",
      "Merging price and sentiment data...\n",
      "✅ Saved aligned features for sample 1 to ../data/processed/sampled/aligned_features_sample_1.csv\n",
      "\n",
      "--- Processing Sample 2 ---\n",
      "Engineering features for price data...\n",
      "Merging price and sentiment data...\n",
      "✅ Saved aligned features for sample 2 to ../data/processed/sampled/aligned_features_sample_2.csv\n",
      "\n",
      "--- Processing Sample 3 ---\n",
      "Engineering features for price data...\n",
      "Merging price and sentiment data...\n",
      "✅ Saved aligned features for sample 3 to ../data/processed/sampled/aligned_features_sample_3.csv\n",
      "\n",
      "--- Processing Sample 4 ---\n",
      "Engineering features for price data...\n",
      "Merging price and sentiment data...\n",
      "✅ Saved aligned features for sample 4 to ../data/processed/sampled/aligned_features_sample_4.csv\n",
      "\n",
      "--- Processing Sample 5 ---\n",
      "Engineering features for price data...\n",
      "Merging price and sentiment data...\n",
      "✅ Saved aligned features for sample 5 to ../data/processed/sampled/aligned_features_sample_5.csv\n"
     ]
    }
   ],
   "source": [
    "data_dir = Path('../data')\n",
    "processed_data_dir = data_dir / 'processed'\n",
    "sampled_dir = processed_data_dir / 'sampled'\n",
    "\n",
    "def calculate_technical_indicators(df):\n",
    "    df['returns'] = np.log(df['close'] / df['close'].shift(1))\n",
    "    df['volatility'] = df['returns'].rolling(window=15).std() * np.sqrt(15)\n",
    "    \n",
    "    delta = df['close'].diff()\n",
    "    gain = (delta.where(delta > 0, 0)).rolling(window=14).mean()\n",
    "    loss = (-delta.where(delta < 0, 0)).rolling(window=14).mean()\n",
    "    rs = gain / loss\n",
    "    df['rsi'] = 100 - (100 / (1 + rs))\n",
    "    \n",
    "    exp1 = df['close'].ewm(span=12, adjust=False).mean()\n",
    "    exp2 = df['close'].ewm(span=26, adjust=False).mean()\n",
    "    df['macd'] = exp1 - exp2\n",
    "    \n",
    "    df['volume_ratio'] = df['volume'] / df['volume'].rolling(window=15).mean()\n",
    "    \n",
    "    return df\n",
    "\n",
    "for i in range(1, 6):\n",
    "    print(f'\\n--- Processing Sample {i} ---')\n",
    "    price_sample_path = sampled_dir / f'prices_sample_{i}.csv'\n",
    "    sentiment_sample_path = sampled_dir / f'sentiment_sample_{i}.csv'\n",
    "    \n",
    "    if not price_sample_path.exists() or not sentiment_sample_path.exists():\n",
    "        print(f'⚠️ Sample {i} not found. Skipping.')\n",
    "        continue\n",
    "        \n",
    "    price_df = pd.read_csv(price_sample_path)\n",
    "    price_df['timestamp'] = pd.to_datetime(price_df['timestamp'])\n",
    "    price_df.set_index('timestamp', inplace=True)\n",
    "    \n",
    "    print(f'Engineering features for price data...')\n",
    "    price_df = calculate_technical_indicators(price_df)\n",
    "    price_15min = price_df.resample('15T').agg({\n",
    "        'open': 'first',\n",
    "        'high': 'max',\n",
    "        'low': 'min',\n",
    "        'close': 'last',\n",
    "        'volume': 'sum',\n",
    "        'returns': 'sum',\n",
    "        'volatility': 'last',\n",
    "        'rsi': 'last',\n",
    "        'macd': 'last',\n",
    "        'volume_ratio': 'last'\n",
    "    })\n",
    "    \n",
    "    sentiment_df = pd.read_csv(sentiment_sample_path)\n",
    "    sentiment_df['timestamp'] = pd.to_datetime(sentiment_df['timestamp'])\n",
    "    sentiment_df.set_index('timestamp', inplace=True)\n",
    "    \n",
    "    print(f'Merging price and sentiment data...')\n",
    "    merged_df = pd.merge(price_15min, sentiment_df, on='timestamp', how='left')\n",
    "    \n",
    "    # Forward-fill sentiment data to handle missing values\n",
    "    sentiment_cols = ['sentiment_mean', 'sentiment_var', 'sentiment_count', 'retweet_count_sum', 'like_count_sum', 'sentiment_momentum']\n",
    "    merged_df[sentiment_cols] = merged_df[sentiment_cols].fillna(method='ffill')\n",
    "    \n",
    "    output_path = sampled_dir / f'aligned_features_sample_{i}.csv'\n",
    "    merged_df.to_csv(output_path, index=True)\n",
    "    print(f'✅ Saved aligned features for sample {i} to {output_path}')"
   ]
  }
 ],
 "metadata": {
  "kernelspec": {
   "display_name": "Python 3",
   "language": "python",
   "name": "python3"
  },
  "language_info": {
   "codemirror_mode": {
    "name": "ipython",
    "version": 3
   },
   "file_extension": ".py",
   "mimetype": "text/x-python",
   "name": "python",
   "nbconvert_exporter": "python",
   "pygments_lexer": "ipython3",
   "version": "3.10.17"
  }
 },
 "nbformat": 4,
 "nbformat_minor": 4
}
