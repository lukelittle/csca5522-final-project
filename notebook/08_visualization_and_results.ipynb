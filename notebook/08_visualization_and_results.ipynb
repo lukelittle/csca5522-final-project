{
 "cells": [
  {
   "cell_type": "markdown",
   "metadata": {},
   "source": [
    "# 07 - Visualization and Results\n",
    "\n",
    "**Author:** Lucas Little  \n",
    "**Course:** CSCA 5522: Data Mining Project  \n",
    "**University:** University of Colorado - Boulder\n",
    "\n",
    "This notebook visualizes the results of the modeling and backtesting on the sampled data.\n",
    "\n",
    "## Objectives\n",
    "1. Load the aggregated model results\n",
    "2. Visualize the model performance\n",
    "3. Visualize the sentiment and price data for a sample"
   ]
  },
  {
   "cell_type": "code",
   "execution_count": null,
   "metadata": {},
   "outputs": [],
   "source": [
    "# Core imports\n",
    "import pandas as pd\n",
    "import numpy as np\n",
    "import matplotlib.pyplot as plt\n",
    "import seaborn as sns\n",
    "from pathlib import Path\n",
    "\n",
    "warnings.filterwarnings('ignore')\n",
    "plt.style.use('default')\n",
    "sns.set_palette(\"husl\")\n",
    "\n",
    "print(\"Environment setup complete!\")"
   ]
  },
  {
   "cell_type": "markdown",
   "metadata": {},
   "source": [
    "## 1. Load Aggregated Results"
   ]
  },
  {
   "cell_type": "code",
   "execution_count": null,
   "metadata": {},
   "outputs": [],
   "source": [
    "data_dir = Path('../data')\n",
    "processed_data_dir = data_dir / 'processed'\n",
    "results_df = pd.read_csv(processed_data_dir / 'aggregated_model_results.csv')\n",
    "\n",
    "print(\"Aggregated Model Results:\")\n",
    "print(results_df)"
   ]
  },
  {
   "cell_type": "markdown",
   "metadata": {},
   "source": [
    "## 2. Visualize Model Performance"
   ]
  },
  {
   "cell_type": "code",
   "execution_count": null,
   "metadata": {},
   "outputs": [],
   "source": [
    "plt.figure(figsize=(12, 6))\n",
    "sns.barplot(data=results_df, x='model', y='sentiment_auc', hue='sample')\n",
    "plt.title('Sentiment Model AUC by Sample')\n",
    "plt.show()"
   ]
  },
  {
   "cell_type": "markdown",
   "metadata": {},
   "source": [
    "## 3. Visualize Sample Data"
   ]
  },
  {
   "cell_type": "code",
   "execution_count": null,
   "metadata": {},
   "outputs": [],
   "source": [
    "sample_to_visualize = 1\n",
    "sampled_dir = processed_data_dir / 'sampled'\n",
    "df = pd.read_csv(sampled_dir / f'enhanced_features_sample_{sample_to_visualize}.csv')\n",
    "df['timestamp'] = pd.to_datetime(df['timestamp'])\n",
    "df.set_index('timestamp', inplace=True)\n",
    "\n",
    "fig, ax1 = plt.subplots(figsize=(15, 7))\n",
    "\n",
    "ax1.set_title(f'Sentiment and Price for Sample {sample_to_visualize}')\n",
    "ax1.set_xlabel('Time')\n",
    "ax1.set_ylabel('Sentiment', color='blue')\n",
    "ax1.plot(df.index, df['sentiment_mean'], color='blue', alpha=0.6, label='Mean Sentiment')\n",
    "ax1.tick_params(axis='y', labelcolor='blue')\n",
    "\n",
    "ax2 = ax1.twinx()\n",
    "ax2.set_ylabel('Price (USD)', color='green')\n",
    "ax2.plot(df.index, df['close'], color='green', alpha=0.6, label='BTC Price')\n",
    "ax2.tick_params(axis='y', labelcolor='green')\n",
    "\n",
    "fig.tight_layout()\n",
    "plt.show()"
   ]
  }
 ],
 "metadata": {
  "kernelspec": {
   "display_name": "venv",
   "language": "python",
   "name": "python3"
  },
  "language_info": {
   "codemirror_mode": {
    "name": "ipython",
    "version": 3
   },
   "file_extension": ".py",
   "mimetype": "text/x-python",
   "name": "python",
   "nbconvert_exporter": "python",
   "pygments_lexer": "ipython3",
   "version": "3.10.17"
  }
 },
 "nbformat": 4,
 "nbformat_minor": 4
}
