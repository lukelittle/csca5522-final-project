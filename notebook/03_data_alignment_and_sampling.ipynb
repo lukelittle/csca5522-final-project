{
 "cells": [
  {
   "cell_type": "markdown",
   "metadata": {},
   "source": [
    "# 03 - Data Alignment and Sampling\n",
    "\n",
    "**Author:** Lucas Little  \n",
    "**Course:** CSCA 5522: Data Mining Project  \n",
    "**University:** University of Colorado - Boulder\n",
    "\n",
    "This notebook determines the overlapping time period between the cleaned tweet and price datasets, and then creates 5 random one-week samples of the data.\n",
    "\n",
    "## Objectives\n",
    "1. Load the cleaned tweet and price data\n",
    "2. Find the overlapping time period\n",
    "3. Create 5 random one-week samples of the data\n",
    "4. Save the sampled data to new files"
   ]
  },
  {
   "cell_type": "code",
   "execution_count": 14,
   "metadata": {},
   "outputs": [
    {
     "name": "stdout",
     "output_type": "stream",
     "text": [
      "Environment setup complete!\n"
     ]
    }
   ],
   "source": [
    "# Core imports\n",
    "import pandas as pd\n",
    "from pathlib import Path\n",
    "import random\n",
    "\n",
    "print(\"Environment setup complete!\")"
   ]
  },
  {
   "cell_type": "markdown",
   "metadata": {},
   "source": [
    "## 1. Load Cleaned Data"
   ]
  },
  {
   "cell_type": "code",
   "execution_count": 15,
   "metadata": {},
   "outputs": [
    {
     "name": "stdout",
     "output_type": "stream",
     "text": [
      "📊 Loading cleaned data...\n",
      "Loaded 17,298,706 cleaned tweets\n",
      "Loaded 7,103,245 cleaned price records\n"
     ]
    }
   ],
   "source": [
    "# Load cleaned data\n",
    "data_dir = Path('../data')\n",
    "processed_data_dir = data_dir / 'processed'\n",
    "\n",
    "print(\"📊 Loading cleaned data...\")\n",
    "tweets_df = pd.read_csv(processed_data_dir / 'tweets_cleaned.csv')\n",
    "prices_df = pd.read_csv(processed_data_dir / 'prices_cleaned.csv')\n",
    "\n",
    "tweets_df['timestamp'] = pd.to_datetime(tweets_df['timestamp'])\n",
    "prices_df['timestamp'] = pd.to_datetime(prices_df['timestamp'])\n",
    "\n",
    "print(f\"Loaded {len(tweets_df):,} cleaned tweets\")\n",
    "print(f\"Loaded {len(prices_df):,} cleaned price records\")"
   ]
  },
  {
   "cell_type": "markdown",
   "metadata": {},
   "source": [
    "## 2. Find Overlapping Time Period"
   ]
  },
  {
   "cell_type": "code",
   "execution_count": 16,
   "metadata": {},
   "outputs": [
    {
     "name": "stdout",
     "output_type": "stream",
     "text": [
      "Tweet data range: 2007-04-19 07:14:38 to 2019-11-23 15:45:57\n",
      "Price data range: 2012-01-01 10:01:00 to 2025-07-05 00:45:00\n",
      "Overlapping data range: 2012-01-01 10:01:00 to 2019-11-23 15:45:57\n"
     ]
    }
   ],
   "source": [
    "tweet_start = tweets_df['timestamp'].min()\n",
    "tweet_end = tweets_df['timestamp'].max()\n",
    "price_start = prices_df['timestamp'].min()\n",
    "price_end = prices_df['timestamp'].max()\n",
    "\n",
    "overlap_start = max(tweet_start, price_start)\n",
    "overlap_end = min(tweet_end, price_end)\n",
    "\n",
    "print(f\"Tweet data range: {tweet_start} to {tweet_end}\")\n",
    "print(f\"Price data range: {price_start} to {price_end}\")\n",
    "print(f\"Overlapping data range: {overlap_start} to {overlap_end}\")"
   ]
  },
  {
   "cell_type": "markdown",
   "metadata": {},
   "source": [
    "## 3. Create Random Samples"
   ]
  },
  {
   "cell_type": "code",
   "execution_count": 17,
   "metadata": {},
   "outputs": [
    {
     "name": "stdout",
     "output_type": "stream",
     "text": [
      "Creating random samples...\n",
      "Sample 1: 2017-02-01 10:01:00 to 2017-02-08 10:01:00 - 2072 tweets, 10080 prices\n",
      "Sample 2: 2012-11-18 10:01:00 to 2012-11-25 10:01:00 - 240 tweets, 10080 prices\n",
      "Sample 3: 2017-05-08 10:01:00 to 2017-05-15 10:01:00 - 2820 tweets, 10080 prices\n",
      "Sample 4: 2015-07-08 10:01:00 to 2015-07-15 10:01:00 - 2973 tweets, 10080 prices\n",
      "Sample 5: 2018-06-29 10:01:00 to 2018-07-06 10:01:00 - 7663 tweets, 10080 prices\n",
      "✅ Created 5 random samples.\n"
     ]
    }
   ],
   "source": [
    "print(\"Creating random samples...\")\n",
    "n_samples = 5\n",
    "sample_duration = pd.Timedelta(days=7)\n",
    "sampled_tweets = []\n",
    "sampled_prices = []\n",
    "\n",
    "for i in range(n_samples):\n",
    "    random_start = overlap_start + pd.Timedelta(days=random.randint(0, (overlap_end - overlap_start).days - 7))\n",
    "    random_end = random_start + sample_duration\n",
    "    \n",
    "    tweet_sample = tweets_df[(tweets_df['timestamp'] >= random_start) & (tweets_df['timestamp'] < random_end)]\n",
    "    price_sample = prices_df[(prices_df['timestamp'] >= random_start) & (prices_df['timestamp'] < random_end)]\n",
    "    \n",
    "    sampled_tweets.append(tweet_sample)\n",
    "    sampled_prices.append(price_sample)\n",
    "    \n",
    "    print(f\"Sample {i+1}: {random_start} to {random_end} - {len(tweet_sample)} tweets, {len(price_sample)} prices\")\n",
    "\n",
    "print(f\"✅ Created {n_samples} random samples.\")"
   ]
  },
  {
   "cell_type": "markdown",
   "metadata": {},
   "source": [
    "## 4. Save Sampled Data"
   ]
  },
  {
   "cell_type": "code",
   "execution_count": 18,
   "metadata": {},
   "outputs": [
    {
     "name": "stdout",
     "output_type": "stream",
     "text": [
      "💾 Saving sampled data...\n",
      "✅ Saved 5 sampled datasets to ../data/processed/sampled\n"
     ]
    }
   ],
   "source": [
    "print(\"💾 Saving sampled data...\")\n",
    "sampled_dir = processed_data_dir / 'sampled'\n",
    "sampled_dir.mkdir(exist_ok=True)\n",
    "\n",
    "for i, (tweets, prices) in enumerate(zip(sampled_tweets, sampled_prices)):\n",
    "    tweet_output_path = sampled_dir / f'tweets_sample_{i+1}.csv'\n",
    "    tweets.to_csv(tweet_output_path, index=False)\n",
    "    \n",
    "    price_output_path = sampled_dir / f'prices_sample_{i+1}.csv'\n",
    "    prices.to_csv(price_output_path, index=False)\n",
    "\n",
    "print(f\"✅ Saved {n_samples} sampled datasets to {sampled_dir}\")"
   ]
  }
 ],
 "metadata": {
  "kernelspec": {
   "display_name": "venv",
   "language": "python",
   "name": "python3"
  },
  "language_info": {
   "codemirror_mode": {
    "name": "ipython",
    "version": 3
   },
   "file_extension": ".py",
   "mimetype": "text/x-python",
   "name": "python",
   "nbconvert_exporter": "python",
   "pygments_lexer": "ipython3",
   "version": "3.10.17"
  }
 },
 "nbformat": 4,
 "nbformat_minor": 4
}
